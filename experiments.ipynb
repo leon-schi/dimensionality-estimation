{
 "cells": [
  {
   "cell_type": "code",
   "execution_count": 9,
   "id": "29bcdfe2-c108-4c13-a64e-a94c007086c1",
   "metadata": {},
   "outputs": [],
   "source": [
    "from utils import Graph\n",
    "import numpy as np\n",
    "import os\n",
    "from tqdm import tqdm\n",
    "import joblib\n",
    "\n",
    "Graphs = {}"
   ]
  },
  {
   "cell_type": "code",
   "execution_count": 10,
   "id": "1dd30c95-e4ee-4a4d-adfe-6596ed707d10",
   "metadata": {},
   "outputs": [],
   "source": [
    "names = os.listdir('supplementary_data')"
   ]
  },
  {
   "cell_type": "code",
   "execution_count": 11,
   "id": "cea8a8f2-ab86-4f8c-9104-acc1cb467125",
   "metadata": {},
   "outputs": [
    {
     "name": "stdout",
     "output_type": "stream",
     "text": [
      "\n"
     ]
    },
    {
     "name": "stderr",
     "output_type": "stream",
     "text": [
      "100%|███████████████████████████████████████████████████████████████████████████████| 66/66 [02:08<00:00,  1.94s/it]\n"
     ]
    }
   ],
   "source": [
    "print(\"reading graphs...\")\n",
    "for name in tqdm(names):\n",
    "    G = Graph()\n",
    "    G.read_from_ordered_file(f'supplementary_data/{name}')\n",
    "    Graphs[name] = G"
   ]
  },
  {
   "cell_type": "code",
   "execution_count": 12,
   "id": "55211a5c-77d2-44db-89f4-f5c25c317bfe",
   "metadata": {},
   "outputs": [
    {
     "name": "stdout",
     "output_type": "stream",
     "text": [
      "doing test for bio-CE-CX with size 18772 (1/66)\n"
     ]
    },
    {
     "name": "stderr",
     "output_type": "stream",
     "text": [
      "  0%|                                                                                       | 0/299 [00:00<?, ?it/s]/home/lschiller/jupyter/jup/lib/python3.8/site-packages/numpy/core/fromnumeric.py:3432: RuntimeWarning: Mean of empty slice.\n",
      "  return _methods._mean(a, axis=axis, dtype=dtype,\n",
      "/home/lschiller/jupyter/jup/lib/python3.8/site-packages/numpy/core/_methods.py:190: RuntimeWarning: invalid value encountered in double_scalars\n",
      "  ret = ret.dtype.type(ret / rcount)\n",
      "100%|█████████████████████████████████████████████████████████████████████████████| 299/299 [06:22<00:00,  1.28s/it]\n"
     ]
    },
    {
     "name": "stdout",
     "output_type": "stream",
     "text": [
      "doing test for email-EuAll with size 224832 (2/66)\n"
     ]
    },
    {
     "name": "stderr",
     "output_type": "stream",
     "text": [
      "100%|█████████████████████████████████████████████████████████████████████████████| 299/299 [00:30<00:00,  9.97it/s]\n"
     ]
    },
    {
     "name": "stdout",
     "output_type": "stream",
     "text": [
      "doing test for soc-academia with size 18772 (3/66)\n"
     ]
    },
    {
     "name": "stderr",
     "output_type": "stream",
     "text": [
      " 53%|████████████████████████████████████████▋                                    | 158/299 [01:44<01:33,  1.51it/s]\n"
     ]
    },
    {
     "ename": "KeyboardInterrupt",
     "evalue": "",
     "output_type": "error",
     "traceback": [
      "\u001b[0;31m---------------------------------------------------------------------------\u001b[0m",
      "\u001b[0;31mKeyboardInterrupt\u001b[0m                         Traceback (most recent call last)",
      "Input \u001b[0;32mIn [12]\u001b[0m, in \u001b[0;36m<cell line: 6>\u001b[0;34m()\u001b[0m\n\u001b[1;32m     10\u001b[0m i \u001b[38;5;241m+\u001b[39m\u001b[38;5;241m=\u001b[39m \u001b[38;5;241m1\u001b[39m\n\u001b[1;32m     11\u001b[0m \u001b[38;5;28;01mfor\u001b[39;00m w \u001b[38;5;129;01min\u001b[39;00m tqdm(ws):\n\u001b[0;32m---> 12\u001b[0m     result, H \u001b[38;5;241m=\u001b[39m \u001b[43mG\u001b[49m\u001b[38;5;241;43m.\u001b[39;49m\u001b[43mdo_test\u001b[49m\u001b[43m(\u001b[49m\u001b[43mw0\u001b[49m\u001b[38;5;241;43m=\u001b[39;49m\u001b[43mw\u001b[49m\u001b[43m,\u001b[49m\u001b[43m \u001b[49m\u001b[43mreturn_H\u001b[49m\u001b[38;5;241;43m=\u001b[39;49m\u001b[38;5;28;43;01mTrue\u001b[39;49;00m\u001b[43m)\u001b[49m\n\u001b[1;32m     13\u001b[0m     test_results[name][\u001b[38;5;124m\"\u001b[39m\u001b[38;5;124mtest_values\u001b[39m\u001b[38;5;124m\"\u001b[39m]\u001b[38;5;241m.\u001b[39mappend(result)\n\u001b[1;32m     14\u001b[0m     test_results[name][\u001b[38;5;124m\"\u001b[39m\u001b[38;5;124msizes\u001b[39m\u001b[38;5;124m\"\u001b[39m]\u001b[38;5;241m.\u001b[39mappend(\u001b[38;5;28mlen\u001b[39m(H))\n",
      "File \u001b[0;32m~/jupyter/clustering/experiments/supplementary_material/utils.py:80\u001b[0m, in \u001b[0;36mGraph.do_test\u001b[0;34m(self, c, w0, return_H)\u001b[0m\n\u001b[1;32m     77\u001b[0m             \u001b[38;5;28;01mif\u001b[39;00m t \u001b[38;5;129;01min\u001b[39;00m \u001b[38;5;28mself\u001b[39m\u001b[38;5;241m.\u001b[39madj[s]: hashtag\u001b[38;5;241m+\u001b[39m\u001b[38;5;241m=\u001b[39m\u001b[38;5;241m1\u001b[39m\n\u001b[1;32m     78\u001b[0m     \u001b[38;5;28;01mreturn\u001b[39;00m hashtag\u001b[38;5;241m/\u001b[39mtotal\n\u001b[0;32m---> 80\u001b[0m result \u001b[38;5;241m=\u001b[39m np\u001b[38;5;241m.\u001b[39mmean([clustering(v) \u001b[38;5;28;01mfor\u001b[39;00m v \u001b[38;5;129;01min\u001b[39;00m H\u001b[38;5;241m.\u001b[39mkeys()])\n\u001b[1;32m     81\u001b[0m \u001b[38;5;28;01mif\u001b[39;00m return_H: \u001b[38;5;28;01mreturn\u001b[39;00m result, H\n\u001b[1;32m     82\u001b[0m \u001b[38;5;28;01melse\u001b[39;00m: \u001b[38;5;28;01mreturn\u001b[39;00m result\n",
      "File \u001b[0;32m~/jupyter/clustering/experiments/supplementary_material/utils.py:80\u001b[0m, in \u001b[0;36m<listcomp>\u001b[0;34m(.0)\u001b[0m\n\u001b[1;32m     77\u001b[0m             \u001b[38;5;28;01mif\u001b[39;00m t \u001b[38;5;129;01min\u001b[39;00m \u001b[38;5;28mself\u001b[39m\u001b[38;5;241m.\u001b[39madj[s]: hashtag\u001b[38;5;241m+\u001b[39m\u001b[38;5;241m=\u001b[39m\u001b[38;5;241m1\u001b[39m\n\u001b[1;32m     78\u001b[0m     \u001b[38;5;28;01mreturn\u001b[39;00m hashtag\u001b[38;5;241m/\u001b[39mtotal\n\u001b[0;32m---> 80\u001b[0m result \u001b[38;5;241m=\u001b[39m np\u001b[38;5;241m.\u001b[39mmean([\u001b[43mclustering\u001b[49m\u001b[43m(\u001b[49m\u001b[43mv\u001b[49m\u001b[43m)\u001b[49m \u001b[38;5;28;01mfor\u001b[39;00m v \u001b[38;5;129;01min\u001b[39;00m H\u001b[38;5;241m.\u001b[39mkeys()])\n\u001b[1;32m     81\u001b[0m \u001b[38;5;28;01mif\u001b[39;00m return_H: \u001b[38;5;28;01mreturn\u001b[39;00m result, H\n\u001b[1;32m     82\u001b[0m \u001b[38;5;28;01melse\u001b[39;00m: \u001b[38;5;28;01mreturn\u001b[39;00m result\n",
      "File \u001b[0;32m~/jupyter/clustering/experiments/supplementary_material/utils.py:77\u001b[0m, in \u001b[0;36mGraph.do_test.<locals>.clustering\u001b[0;34m(v)\u001b[0m\n\u001b[1;32m     75\u001b[0m     \u001b[38;5;28;01mfor\u001b[39;00m t \u001b[38;5;129;01min\u001b[39;00m H[v][i\u001b[38;5;241m+\u001b[39m\u001b[38;5;241m1\u001b[39m:]:\n\u001b[1;32m     76\u001b[0m         total\u001b[38;5;241m+\u001b[39m\u001b[38;5;241m=\u001b[39m\u001b[38;5;241m1\u001b[39m\n\u001b[0;32m---> 77\u001b[0m         \u001b[38;5;28;01mif\u001b[39;00m \u001b[43mt\u001b[49m\u001b[43m \u001b[49m\u001b[38;5;129;43;01min\u001b[39;49;00m\u001b[43m \u001b[49m\u001b[38;5;28;43mself\u001b[39;49m\u001b[38;5;241;43m.\u001b[39;49m\u001b[43madj\u001b[49m\u001b[43m[\u001b[49m\u001b[43ms\u001b[49m\u001b[43m]\u001b[49m: hashtag\u001b[38;5;241m+\u001b[39m\u001b[38;5;241m=\u001b[39m\u001b[38;5;241m1\u001b[39m\n\u001b[1;32m     78\u001b[0m \u001b[38;5;28;01mreturn\u001b[39;00m hashtag\u001b[38;5;241m/\u001b[39mtotal\n",
      "\u001b[0;31mKeyboardInterrupt\u001b[0m: "
     ]
    }
   ],
   "source": [
    "# do the test\n",
    "test_results = {}\n",
    "ws = list(range(2, 301))\n",
    "\n",
    "i = 1\n",
    "for name in names:\n",
    "    G = Graphs[name]\n",
    "    test_results[name] = {\"test_values\": [], \"sizes\": []}\n",
    "    print(f\"doing test for {name} with size {len(G.adj)} ({i}/{len(names)})\")\n",
    "    i += 1\n",
    "    for w in tqdm(ws):\n",
    "        result, H = G.do_test(w0=w, return_H=True)\n",
    "        test_results[name][\"test_values\"].append(result)\n",
    "        test_results[name][\"sizes\"].append(len(H))"
   ]
  },
  {
   "cell_type": "code",
   "execution_count": null,
   "id": "34afb78d-31a8-4a95-a404-dd7b6ba2b003",
   "metadata": {},
   "outputs": [],
   "source": [
    "joblib.dump(test_results, 'results/results.pkl')"
   ]
  }
 ],
 "metadata": {
  "kernelspec": {
   "display_name": "Python 3 (ipykernel)",
   "language": "python",
   "name": "python3"
  },
  "language_info": {
   "codemirror_mode": {
    "name": "ipython",
    "version": 3
   },
   "file_extension": ".py",
   "mimetype": "text/x-python",
   "name": "python",
   "nbconvert_exporter": "python",
   "pygments_lexer": "ipython3",
   "version": "3.8.10"
  }
 },
 "nbformat": 4,
 "nbformat_minor": 5
}
